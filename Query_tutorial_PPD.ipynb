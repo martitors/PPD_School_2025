{
 "cells": [
  {
   "cell_type": "markdown",
   "metadata": {
    "editable": true,
    "slideshow": {
     "slide_type": "slide",
     "theme": "white"
    },
    "tags": [
     "first"
    ]
   },
   "source": [
    "# ALMA Science Archive Query Tools\n",
    "### **Martina Torsello**\n",
    "\n",
    "#### **The Birth of Solar Systems Summer School**\n",
    "#### **3 March 2025**"
   ]
  },
  {
   "cell_type": "markdown",
   "metadata": {
    "editable": true,
    "slideshow": {
     "slide_type": "slide"
    },
    "tags": [
     "bold"
    ]
   },
   "source": [
    "## Query Tools Notebook\n",
    "\n",
    "This notebook is designed to help you learn how to utilize query tools within the [ALMA Science Archive (ASA)](https://almascience.eso.org/aq/).\n",
    "\n",
    "### How to Use\n",
    "Each cell can be executed by pressing <kbd>Shift</kbd>+<kbd>Enter</kbd>, you may enter your attempts in the empty cells and create new cells by clicking the <kbd>+Code</kbd> button.\n",
    "\n",
    "You can run it using Google Colab or Jupyter Notebook in your own python/conda environment.\n",
    "\n",
    "**To open the notebook in Colab:**  &emsp;&emsp;&emsp;&emsp;&emsp;&emsp;&emsp;&emsp;&emsp;&emsp;&emsp;&emsp;&emsp;&emsp;&emsp;&emsp;&emsp;&emsp;&emsp;&emsp;&emsp;&emsp;&emsp; https://colab.research.google.com/github/martitors/PPD_School_2025/blob/main/Query_tutorial_PPD.ipynb\n",
    "\n",
    "**To download the notebook and work with it in your local station:** &emsp;&emsp;&emsp;&emsp;&emsp;&emsp;&emsp;&emsp; https://github.com/martitors/PPD_School_2025/blob/main/Query_tutorial_PPD.ipynb"
   ]
  },
  {
   "cell_type": "markdown",
   "metadata": {
    "editable": true,
    "slideshow": {
     "slide_type": "slide"
    },
    "tags": []
   },
   "source": [
    "## Parts Overview\n",
    "\n",
    "In this notebook we will see three of the most popular query tools:\n",
    "\n",
    "### [Part 1. pyVO](#pyVO)\n",
    "### [Part 2. astroquery](#astroquery)\n",
    "### [Part 3. ALminer](#alminer)\n",
    "### [Part 4. Exercise](#workstation)"
   ]
  },
  {
   "cell_type": "markdown",
   "metadata": {
    "editable": true,
    "slideshow": {
     "slide_type": "slide"
    },
    "tags": []
   },
   "source": [
    "## Packages installation\n",
    "### **Google Colab**\n",
    "If you are using Colab, the installation of the different packages will be done through *pip*."
   ]
  },
  {
   "cell_type": "code",
   "execution_count": null,
   "metadata": {
    "editable": true,
    "slideshow": {
     "slide_type": ""
    },
    "tags": []
   },
   "outputs": [],
   "source": [
    "import sys\n",
    "moduleList = sys.modules\n",
    "\n",
    "if 'google.colab' in moduleList:\n",
    "\n",
    "    ! pip install https://github.com/emerge-erc/ALminer/archive/refs/heads/main.zip"
   ]
  },
  {
   "cell_type": "markdown",
   "metadata": {
    "editable": true,
    "slideshow": {
     "slide_type": "slide"
    },
    "tags": []
   },
   "source": [
    "### **Local environment** \n",
    "\n",
    "Otherwise, if you are running this notebook on the your local machine using jupyter, you should install all the packages in advance on your own conda/pyhton environment. \n",
    "After you have activate your environment, you can execute the following lines:\n",
    "\n",
    "#### **Download scipy and ALminer** (pyVO and astroquery are automatically installed via ALminer dependencies)\n",
    "**BEWARE:** You should download the 'bleeding edge' from github and not the classic *pip install alminer*. \n",
    "Some functions (i.e. Splatalogue) currently only work in the development version of this packages.\n",
    "\n",
    "\n",
    "` pip install scipy https://github.com/emerge-erc/ALminer/archive/refs/heads/main.zip `\n"
   ]
  },
  {
   "cell_type": "markdown",
   "metadata": {
    "editable": true,
    "id": "iDG5RHSD0wG_",
    "slideshow": {
     "slide_type": "slide"
    },
    "tags": [
     "pyvo"
    ]
   },
   "source": [
    "# Part 1. pyVO<a name=\"pyVO\"></a>\n",
    "\n",
    "**pyVO** (Python Virtual Observatory) is a Python library designed to access and query astronomical data through the Virtual Observatory (VO). \n",
    "\n",
    "* Officially supported by the ALMA archive developers.\n",
    "* Offers a simple interface to query VO services and retrieve astronomical data from them. \n",
    "* It facilitates tasks such as searching for specific observations, accessing metadata, and downloading data files for analysis."
   ]
  },
  {
   "cell_type": "markdown",
   "metadata": {
    "editable": true,
    "slideshow": {
     "slide_type": "slide"
    },
    "tags": []
   },
   "source": [
    "## Set-up"
   ]
  },
  {
   "cell_type": "code",
   "execution_count": null,
   "metadata": {
    "editable": true,
    "slideshow": {
     "slide_type": ""
    },
    "tags": []
   },
   "outputs": [],
   "source": [
    "import pyvo\n",
    "import pandas as pd\n",
    "\n",
    "service = pyvo.dal.TAPService(\"https://almascience.eso.org/tap\")\n",
    "\n",
    "# If the ESO archive is down, you may use the NRAO/NAOJ mirrors:\n",
    "# service = pyvo.dal.TAPService(\"https://almascience.nrao.edu/tap\")\n",
    "# service = pyvo.dal.TAPService(\"https://almascience.nao.ac.jp/tap\")"
   ]
  },
  {
   "cell_type": "markdown",
   "metadata": {
    "editable": true,
    "slideshow": {
     "slide_type": ""
    },
    "tags": []
   },
   "source": [
    "## Resources\n",
    "* The language used by the IVOA to represent astronomy queries posted to VO services: [The Astronomical Data Query Language (ADQL)](https://www.ivoa.net/documents/ADQL/20180112/PR-ADQL-2.1-20180112.html).\n",
    "* Examples on using pyVO to query the ALMA archive: [Notebooks on the ALMA Science Portal](https://almascience.eso.org/alma-data/archive/archive-notebooks).\n"
   ]
  },
  {
   "cell_type": "markdown",
   "metadata": {
    "editable": true,
    "scroll": true,
    "slideshow": {
     "scrollable": true,
     "slide_type": "slide"
    },
    "tags": []
   },
   "source": [
    "## Query Standart Format"
   ]
  },
  {
   "cell_type": "code",
   "execution_count": null,
   "metadata": {
    "editable": true,
    "slideshow": {
     "scrollable": true,
     "slide_type": ""
    },
    "tags": []
   },
   "outputs": [],
   "source": [
    "query = f\"\"\"\n",
    "        \n",
    "         \"\"\""
   ]
  },
  {
   "cell_type": "markdown",
   "metadata": {
    "editable": true,
    "scroll": true,
    "scrolled": "True",
    "slideshow": {
     "scrollable": "True",
     "slide_type": ""
    },
    "tags": []
   },
   "source": [
    "#### Quering options:\n",
    "\n",
    "* `SELECT`: The columns you want to retrieve from the table.\n",
    "\n",
    "* `WHERE`: The constraints on the data you want to retrieve.\n",
    "\n",
    "* `FROM`: Specifies the table or catalog from which you want to retrieve data.\n",
    "\n",
    "* `INTERSECT`: The results should match both conditions specified.\n",
    "\n",
    "* `JOIN`: Join operation between two tables.\n",
    "\n",
    "* `ORDER BY`: The column(s) by which the results should be sorted.\n",
    "\n",
    "* `LIMIT`: The maximum number of results to return.\n",
    "\n",
    "* `FORMAT`: The format in which you want the results to be returned (e.g., VOTable, CSV, JSON)."
   ]
  },
  {
   "cell_type": "markdown",
   "metadata": {
    "editable": true,
    "id": "k3kxaSEQ0wHD",
    "slideshow": {
     "slide_type": "slide"
    },
    "tags": []
   },
   "source": [
    "## Get all available column names"
   ]
  },
  {
   "cell_type": "code",
   "execution_count": null,
   "metadata": {
    "editable": true,
    "slideshow": {
     "slide_type": ""
    },
    "tags": []
   },
   "outputs": [],
   "source": [
    "# Query the metadata\n",
    "metadata_query = \"\"\" SELECT column_name, unit, description \n",
    "                     FROM TAP_SCHEMA.columns \"\"\"\n",
    "\n",
    "TAP_metadata = service.search(metadata_query)\n",
    "\n",
    "# Convert in pandas dataframe\n",
    "TAP_metadata_pd = pd.DataFrame(TAP_metadata).set_index('column_name')\n",
    "\n",
    "print(TAP_metadata_pd.index.to_list())"
   ]
  },
  {
   "cell_type": "markdown",
   "metadata": {
    "editable": true,
    "slideshow": {
     "slide_type": "slide"
    },
    "tags": []
   },
   "source": [
    "## Get information about a column"
   ]
  },
  {
   "cell_type": "code",
   "execution_count": null,
   "metadata": {
    "editable": true,
    "id": "W2Q99-Ko0wHE",
    "outputId": "3a483ff4-faef-4f26-88cf-379255ebbca9",
    "slideshow": {
     "slide_type": ""
    },
    "tags": []
   },
   "outputs": [],
   "source": [
    "column = ''\n",
    "\n",
    "#Print the column name\n",
    "print(\"\\033[1mColumn: \\033[0m\", column )\n",
    "\n",
    "# Get the description of a given column \n",
    "print(\"\\n\\033[1mDescription: \\033[0m\", \n",
    "      TAP_metadata_pd.loc[ column , 'description'])\n",
    "\n",
    "# Get the units of a given column\n",
    "print(\"\\n\\033[1mUnits: \\033[0m\", \n",
    "      TAP_metadata_pd.loc[ column , 'unit'])"
   ]
  },
  {
   "cell_type": "markdown",
   "metadata": {
    "editable": true,
    "slideshow": {
     "slide_type": "slide"
    },
    "tags": []
   },
   "source": [
    "## Pandas Dataframe"
   ]
  },
  {
   "cell_type": "markdown",
   "metadata": {
    "editable": true,
    "slideshow": {
     "slide_type": ""
    },
    "tags": []
   },
   "source": [
    "PyVO provides the capability to display tables in **Pandas** format, which is particularly useful for data visualization."
   ]
  },
  {
   "cell_type": "markdown",
   "metadata": {
    "editable": true,
    "slideshow": {
     "slide_type": ""
    },
    "tags": []
   },
   "source": [
    "### Pandas table display set-up"
   ]
  },
  {
   "cell_type": "code",
   "execution_count": null,
   "metadata": {
    "editable": true,
    "slideshow": {
     "slide_type": ""
    },
    "tags": []
   },
   "outputs": [],
   "source": [
    "pd.set_option('display.max_rows', 4)\n",
    "pd.set_option('display.max_columns', 6)"
   ]
  },
  {
   "cell_type": "markdown",
   "metadata": {
    "editable": true,
    "slideshow": {
     "slide_type": ""
    },
    "tags": []
   },
   "source": [
    "**BEWARE:** You can choose to display all the rows or columns using `pd.set_option(..., None)`, but this may overload your notebook and crash the kernel!"
   ]
  },
  {
   "cell_type": "markdown",
   "metadata": {
    "editable": true,
    "id": "6_WQkDjW0wHG",
    "slideshow": {
     "slide_type": "slide"
    },
    "tags": []
   },
   "source": [
    "##  Query by coordinates\n",
    "#### **RA** = 67.910462 , **Dec** = 18.232739, **Search radius** = 0.005 degrees:"
   ]
  },
  {
   "cell_type": "code",
   "execution_count": null,
   "metadata": {
    "editable": true,
    "id": "mvsoW6gY0wHH",
    "slideshow": {
     "slide_type": ""
    },
    "tags": [
     "hide_output"
    ]
   },
   "outputs": [],
   "source": [
    "query = f\"\"\"\n",
    "        SELECT *\n",
    "        FROM ivoa.obscore\n",
    "        WHERE INTERSECTS(\n",
    "                CIRCLE( 'ICRS', ... )\n",
    "                ,s_region ) =1\n",
    "        \"\"\"\n",
    "q_results = service.search(query).to_table().to_pandas()\n",
    "q_results"
   ]
  },
  {
   "cell_type": "markdown",
   "metadata": {
    "editable": true,
    "slideshow": {
     "slide_type": "slide"
    },
    "tags": []
   },
   "source": [
    "## Query by a list of coordinates \n",
    "#### **RA** = 67.910462 , **Dec** = 18.232739\n",
    "#### **RA** = 165.466277, **Dec** = -34.704758"
   ]
  },
  {
   "cell_type": "code",
   "execution_count": null,
   "metadata": {
    "editable": true,
    "slideshow": {
     "slide_type": ""
    },
    "tags": []
   },
   "outputs": [],
   "source": [
    "ra_list = [ ]\n",
    "dec_list = [ ]\n",
    "radius = ...\n",
    "\n",
    "coord_conditions = [f\"\"\"INTERSECTS(CIRCLE('ICRS',{c[0]},{c[1]},{radius})\n",
    "                    ,s_region)=1\"\"\" for c in zip(ra_list, dec_list)]\n",
    "\n",
    "query = f\"\"\"\n",
    "        SELECT *\n",
    "        FROM ivoa.obscore\n",
    "        WHERE {\" OR \".join(coord_conditions)}\"\"\"\n",
    "\n",
    "q_results = service.search(query).to_table().to_pandas()\n",
    "q_results"
   ]
  },
  {
   "cell_type": "markdown",
   "metadata": {
    "editable": true,
    "id": "9SVnuczV0wHj",
    "slideshow": {
     "slide_type": "slide"
    },
    "tags": []
   },
   "source": [
    "## Query by astropy coordinates \n",
    "#### Name: HL Tau"
   ]
  },
  {
   "cell_type": "code",
   "execution_count": null,
   "metadata": {
    "editable": true,
    "id": "-_57zJx40wHk",
    "slideshow": {
     "slide_type": ""
    },
    "tags": []
   },
   "outputs": [],
   "source": [
    "import astropy\n",
    "coordinates = astropy.coordinates.SkyCoord.from_name(\"HL Tau\")\n",
    "ra = float(coordinates.ra.degree)\n",
    "dec = float(coordinates.dec.degree)\n",
    "\n",
    "query = f\"\"\"\n",
    "            SELECT *\n",
    "            FROM ivoa.obscore\n",
    "            WHERE INTERSECTS(CIRCLE('ICRS',{ra},{dec},0.005),\n",
    "            s_region)=1\n",
    "        \"\"\"\n",
    "q_results = service.search(query).to_table().to_pandas()\n",
    "q_results"
   ]
  },
  {
   "cell_type": "markdown",
   "metadata": {
    "editable": true,
    "id": "L6S9i92Q0wHL",
    "slideshow": {
     "slide_type": "slide"
    },
    "tags": []
   },
   "source": [
    "## Display the output query "
   ]
  },
  {
   "cell_type": "markdown",
   "metadata": {
    "editable": true,
    "id": "qKoV2r5N0wHT",
    "slideshow": {
     "slide_type": ""
    },
    "tags": []
   },
   "source": [
    "### Display all the column names in the output query:"
   ]
  },
  {
   "cell_type": "code",
   "execution_count": null,
   "metadata": {
    "editable": true,
    "id": "ONzbpJV00wHU",
    "outputId": "903077c1-f1ad-4fce-cb22-e41f4e151d40",
    "slideshow": {
     "slide_type": ""
    },
    "tags": []
   },
   "outputs": [],
   "source": [
    "print(q_results.columns)"
   ]
  },
  {
   "cell_type": "markdown",
   "metadata": {
    "editable": true,
    "slideshow": {
     "slide_type": "slide"
    },
    "tags": []
   },
   "source": [
    "### Query only specific columns:\n",
    "#### ALma source name, Project code, Coordinates, Frequency, Spatial Resolution, Alma Band"
   ]
  },
  {
   "cell_type": "code",
   "execution_count": null,
   "metadata": {
    "editable": true,
    "slideshow": {
     "slide_type": ""
    },
    "tags": []
   },
   "outputs": [],
   "source": [
    "query = f\"\"\"\n",
    "        SELECT ...\n",
    "        FROM ivoa.obscore\n",
    "        WHERE INTERSECTS(\n",
    "                CIRCLE( 'ICRS', 165.466277, -34.704758 ,0.005)\n",
    "                ,s_region ) =1\n",
    "        \"\"\"\n",
    "q_results = service.search(query).to_table().to_pandas()\n",
    "q_results"
   ]
  },
  {
   "cell_type": "markdown",
   "metadata": {
    "editable": true,
    "id": "uTMVCCEZ0wHV",
    "slideshow": {
     "slide_type": "slide"
    },
    "tags": []
   },
   "source": [
    "### Display the unique Project code associated with the search results:"
   ]
  },
  {
   "cell_type": "code",
   "execution_count": null,
   "metadata": {
    "editable": true,
    "id": "YZ0GmFOG0wHW",
    "outputId": "f6a43877-82f0-4fb8-af22-eb29e77f82a6",
    "slideshow": {
     "slide_type": ""
    },
    "tags": []
   },
   "outputs": [],
   "source": [
    "print(q_results['proposal_id'].unique())"
   ]
  },
  {
   "cell_type": "markdown",
   "metadata": {
    "editable": true,
    "id": "rLnP5iwo0wHX",
    "slideshow": {
     "slide_type": "slide"
    },
    "tags": []
   },
   "source": [
    "### Plot the right ascension and declination of all fields in the search:"
   ]
  },
  {
   "cell_type": "code",
   "execution_count": null,
   "metadata": {
    "editable": true,
    "id": "06pBJzZe0wHZ",
    "outputId": "e89b9eb2-5673-4dd0-e575-bcfd7452bfae",
    "scrolled": true,
    "slideshow": {
     "slide_type": ""
    },
    "tags": [
     "hide_input"
    ]
   },
   "outputs": [],
   "source": [
    "import matplotlib.pyplot as plt\n",
    "\n",
    "x,y = q_results[...] ,q_results[...]\n",
    "plt.scatter( x , y, marker= '^' )\n",
    "plt.xlabel( 'RA' )\n",
    "plt.ylabel( 'Dec' )\n",
    "plt.show()"
   ]
  },
  {
   "cell_type": "markdown",
   "metadata": {
    "editable": true,
    "slideshow": {
     "slide_type": "slide"
    },
    "tags": []
   },
   "source": [
    "## Query by Target Name"
   ]
  },
  {
   "cell_type": "code",
   "execution_count": null,
   "metadata": {
    "editable": true,
    "scrolled": true,
    "slideshow": {
     "slide_type": ""
    },
    "tags": []
   },
   "outputs": [],
   "source": [
    "query = f\"\"\"\n",
    "            SELECT proposal_id, target_name, s_ra, s_dec, frequency,\n",
    "                   spatial_resolution\n",
    "            FROM ivoa.obscore\n",
    "            WHERE target_name like '...'\n",
    "        \"\"\"\n",
    "q_results = service.search(query).to_table().to_pandas()\n",
    "q_results"
   ]
  },
  {
   "cell_type": "markdown",
   "metadata": {
    "editable": true,
    "id": "Gi_4wVgc0wHb",
    "slideshow": {
     "slide_type": "slide"
    },
    "tags": []
   },
   "source": [
    "## Query by ALMA Project Code\n",
    "### ALMA Large Program DSHARP: 2016.1.00484.L"
   ]
  },
  {
   "cell_type": "code",
   "execution_count": null,
   "metadata": {
    "editable": true,
    "id": "xZ4-altH0wHc",
    "outputId": "6a41656d-e25f-4166-f2a4-7276117710d8",
    "slideshow": {
     "slide_type": ""
    },
    "tags": []
   },
   "outputs": [],
   "source": [
    "query = f\"\"\"\n",
    "            SELECT proposal_id, target_name, s_ra, s_dec, frequency,\n",
    "                   spatial_resolution\n",
    "            FROM ivoa.obscore\n",
    "            WHERE proposal_id like '...'\n",
    "        \"\"\"\n",
    "q_results = service.search(query).to_table().to_pandas()\n",
    "q_results"
   ]
  },
  {
   "cell_type": "markdown",
   "metadata": {
    "editable": true,
    "slideshow": {
     "slide_type": "slide"
    },
    "tags": []
   },
   "source": [
    "## Query by all program from Cycle 5"
   ]
  },
  {
   "cell_type": "code",
   "execution_count": null,
   "metadata": {
    "editable": true,
    "slideshow": {
     "slide_type": ""
    },
    "tags": []
   },
   "outputs": [],
   "source": [
    "query = f\"\"\"\n",
    "            SELECT proposal_id, target_name, s_ra, s_dec, frequency,\n",
    "                   spatial_resolution\n",
    "            FROM ivoa.obscore\n",
    "            WHERE proposal_id like '...'\n",
    "        \"\"\"\n",
    "q_results = service.search(query).to_table().to_pandas()\n",
    "q_results"
   ]
  },
  {
   "cell_type": "markdown",
   "metadata": {
    "editable": true,
    "id": "g9t-fOrw0wHd",
    "slideshow": {
     "slide_type": "slide"
    },
    "tags": []
   },
   "source": [
    "## Query by all program from Cycle 5\n",
    "### Only full polarization data, angular resolution < 0.1 arcsec:"
   ]
  },
  {
   "cell_type": "code",
   "execution_count": null,
   "metadata": {
    "editable": true,
    "id": "nEyfQcSR0wHe",
    "outputId": "1ddd196d-ce23-4274-f161-e161ab9badab",
    "slideshow": {
     "slide_type": ""
    },
    "tags": []
   },
   "outputs": [],
   "source": [
    "query = f\"\"\"\n",
    "            SELECT proposal_id, target_name, s_ra, s_dec, frequency,\n",
    "                   spatial_resolution\n",
    "            FROM ivoa.obscore\n",
    "            WHERE proposal_id like '...'\n",
    "            AND pol_states like '%/XX/XY/YX/YY/%'\n",
    "            AND ...\n",
    "        \"\"\"\n",
    "\n",
    "q_results = service.search(query).to_table().to_pandas()"
   ]
  },
  {
   "cell_type": "markdown",
   "metadata": {
    "editable": true,
    "slideshow": {
     "slide_type": ""
    },
    "tags": []
   },
   "source": [
    "We can print the proposal ids of our query:"
   ]
  },
  {
   "cell_type": "code",
   "execution_count": null,
   "metadata": {
    "editable": true,
    "slideshow": {
     "slide_type": ""
    },
    "tags": []
   },
   "outputs": [],
   "source": [
    "print(q_results['proposal_id'].unique())"
   ]
  },
  {
   "cell_type": "markdown",
   "metadata": {
    "editable": true,
    "id": "fIX9XZDg0wHh",
    "slideshow": {
     "slide_type": "slide"
    },
    "tags": []
   },
   "source": [
    "## Query by frequency \n",
    "#### Query all observations that have (a portion of) their spectral coverage overlapping the range [ 115.20 GHz , 115.35 GHz ]:"
   ]
  },
  {
   "cell_type": "code",
   "execution_count": null,
   "metadata": {
    "editable": true,
    "id": "q8Iaw3HG0wHi",
    "outputId": "f8fbc931-f831-4294-8ab5-5131c434ef49",
    "slideshow": {
     "slide_type": ""
    },
    "tags": []
   },
   "outputs": [],
   "source": [
    "query = f\"\"\"\n",
    "            SELECT proposal_id, frequency, bandwidth\n",
    "            FROM ivoa.obscore\n",
    "            WHERE proposal_id like '%2016%' \n",
    "            AND (frequency - 0.5 * bandwidth/1e9) < ...\n",
    "            AND (frequency + 0.5 * bandwidth/1e9) > ...\n",
    "        \"\"\"\n",
    "q_results = service.search(query).to_table().to_pandas()\n",
    "\n",
    "#Half of the bandwith\n",
    "half_bw = 0.5 * q_results['bandwidth']/ 1e9\n",
    "\n",
    "#Compute min and max frequencies\n",
    "q_results['min_freq'] = q_results['frequency'] - half_bw\n",
    "q_results['max_freq'] = q_results['frequency'] + half_bw"
   ]
  },
  {
   "cell_type": "code",
   "execution_count": null,
   "metadata": {
    "editable": true,
    "slideshow": {
     "slide_type": "slide"
    },
    "tags": []
   },
   "outputs": [],
   "source": [
    "q_results[['proposal_id', 'min_freq', 'max_freq']]"
   ]
  },
  {
   "cell_type": "markdown",
   "metadata": {
    "editable": true,
    "slideshow": {
     "slide_type": "slide"
    },
    "tags": []
   },
   "source": [
    "## Query by Member OUS ID\n",
    "\n",
    "Search by Member OUS ID in pyVo requires a different formatting:"
   ]
  },
  {
   "cell_type": "code",
   "execution_count": null,
   "metadata": {
    "editable": true,
    "slideshow": {
     "slide_type": ""
    },
    "tags": []
   },
   "outputs": [],
   "source": [
    "mous = 'uid://A001/X8c5/X96'\n",
    "mous_formatted = mous.replace(\"___\",\"://\").replace(\"_\",\"/\")\n",
    "# -> uid__A001_X8c5_X96\n",
    "\n",
    "query = f\"\"\"\n",
    "            SELECT *\n",
    "            FROM ivoa.obscore\n",
    "            WHERE member_ous_uid = '{mous_formatted}'\n",
    "        \"\"\"\n",
    "q_results = service.search(query).to_table().to_pandas()\n",
    "q_results"
   ]
  },
  {
   "cell_type": "markdown",
   "metadata": {
    "editable": true,
    "slideshow": {
     "slide_type": "slide"
    },
    "tags": []
   },
   "source": [
    "## Query by bibliography code"
   ]
  },
  {
   "cell_type": "code",
   "execution_count": null,
   "metadata": {
    "editable": true,
    "slideshow": {
     "slide_type": ""
    },
    "tags": []
   },
   "outputs": [],
   "source": [
    "query = f\"\"\"\n",
    "            SELECT *\n",
    "            FROM ivoa.obscore\n",
    "            WHERE proposal_id like '%2016%'\n",
    "            AND bib_reference like '%2017ApJ...851...55S%'\n",
    "        \"\"\"\n",
    "q_results = service.search(query).to_table().to_pandas()\n",
    "q_results"
   ]
  },
  {
   "cell_type": "markdown",
   "metadata": {
    "editable": true,
    "id": "0qge3BQL0wHr",
    "slideshow": {
     "slide_type": "slide"
    },
    "tags": []
   },
   "source": [
    "## Download data\n",
    "\n",
    "Downloading data using pyVO is quite straightforward, even though it should be done mainly by **one OUS member at a time**, and it requires the different formatting seen before:  "
   ]
  },
  {
   "cell_type": "code",
   "execution_count": null,
   "metadata": {
    "editable": true,
    "id": "gb0qkf9c0wHr",
    "slideshow": {
     "slide_type": ""
    },
    "tags": []
   },
   "outputs": [],
   "source": [
    "import os\n",
    "\n",
    "mous = 'uid://A001/X8c5/X96'\n",
    "mous_formatted = mous.replace(\"___\", \"://\").replace(\"_\", \"/\")\n",
    "\n",
    "datalink = pyvo.dal.adhoc.DatalinkResults.from_result_url(\n",
    "    f\"https://almascience.eso.org/datalink/sync?ID={mous_formatted}\")\n",
    "\n",
    "# Uncomment next line to enable the download\n",
    "#for dl in datalink:\n",
    "    #dl.cachedataset(filename = os.path.basename(dl['access_url']))"
   ]
  },
  {
   "cell_type": "markdown",
   "metadata": {
    "editable": true,
    "id": "D5ps3qvP0wHs",
    "slideshow": {
     "slide_type": ""
    },
    "tags": []
   },
   "source": [
    "You should now be able to see some tar files downloaded in your current working directory."
   ]
  },
  {
   "cell_type": "markdown",
   "metadata": {
    "editable": true,
    "id": "vnAwGUYz0wHt",
    "slideshow": {
     "slide_type": "slide"
    },
    "tags": [
     "astroquery"
    ]
   },
   "source": [
    "# Part 2.\n",
    "# Astroquery<a name=\"astroquery\"></a>\n",
    "\n",
    "**Astroquery** is an astropy affiliated package that contains a collection of tools for querying astronomical web forms and databases. \n",
    "\n",
    "Each web service has its own sub-package, ALMA included.\n"
   ]
  },
  {
   "cell_type": "markdown",
   "metadata": {
    "editable": true,
    "slideshow": {
     "slide_type": "slide"
    },
    "tags": []
   },
   "source": [
    "## Set-up"
   ]
  },
  {
   "cell_type": "code",
   "execution_count": null,
   "metadata": {
    "editable": true,
    "slideshow": {
     "slide_type": ""
    },
    "tags": []
   },
   "outputs": [],
   "source": [
    "import astroquery\n",
    "print(\"astroquery version: {}\".format(astroquery.__version__))\n",
    "\n",
    "# Import astroquery and other useful packages:\n",
    "from astroquery.alma import Alma\n",
    "import numpy as np\n",
    "import astropy.units as u\n",
    "from astropy.coordinates import SkyCoord\n",
    "\n",
    "#Instantiate alma object/class\n",
    "alma = Alma()"
   ]
  },
  {
   "cell_type": "markdown",
   "metadata": {
    "editable": true,
    "slideshow": {
     "slide_type": ""
    },
    "tags": []
   },
   "source": [
    "If you have access to proprietary data, you will need to login to your ALMA account:"
   ]
  },
  {
   "cell_type": "code",
   "execution_count": null,
   "metadata": {
    "editable": true,
    "slideshow": {
     "slide_type": ""
    },
    "tags": []
   },
   "outputs": [],
   "source": [
    "#login_name = \"\"\n",
    "#alma.login(login_name)"
   ]
  },
  {
   "cell_type": "markdown",
   "metadata": {
    "editable": true,
    "slideshow": {
     "slide_type": "slide"
    },
    "tags": []
   },
   "source": [
    "## Resources\n",
    "- If you want to access help for a particular command, type `help(command)` and run the cell.\n",
    "- The Astroquery readthedocs is located [here](https://astroquery.readthedocs.io/en/latest/).\n",
    "- The output of astroquery searches are astropy tables (see [astropy tables documentation page](https://docs.astropy.org/en/stable/table/index.html) for more information on how to work with them).\n",
    "- [ALMA Science Archive Notebooks](https://almascience.eso.org/alma-data/archive/archive-notebooks/nb8_ALMA_Query_using_astroquery.html)."
   ]
  },
  {
   "cell_type": "markdown",
   "metadata": {
    "editable": true,
    "id": "DnzbYI8O0wHu",
    "slideshow": {
     "slide_type": "slide"
    },
    "tags": []
   },
   "source": [
    "## Query an object by name\n",
    "\n",
    "We perform an ALMA object query (`alma.query_object`). \n",
    "Astroquery sends the source name to the ALMA Archive, which then resolves the source coordinates using, i.e. Simbad, NED, and Vizier, for matches to the object name. Astroquery returns an astropy table containing information on all of the ALMA archival data towards the object coordinates.\n",
    "\n",
    "The default ALMA search radius is 10 arcminutes.\n"
   ]
  },
  {
   "cell_type": "code",
   "execution_count": null,
   "metadata": {
    "editable": true,
    "id": "CV50YB5C0wHv",
    "outputId": "f60ffbf1-526f-478d-d9df-f4444a92566a",
    "scrolled": true,
    "slideshow": {
     "slide_type": ""
    },
    "tags": []
   },
   "outputs": [],
   "source": [
    "q_results = alma.query_object(\"...\")\n",
    "q_results.to_pandas()"
   ]
  },
  {
   "cell_type": "markdown",
   "metadata": {
    "editable": true,
    "slideshow": {
     "slide_type": "slide"
    },
    "tags": []
   },
   "source": [
    "## Query an object by coordinates\n",
    "\n",
    "Note that you can instead perform a region search (`alma.query_region`).\n",
    "There are multiple valid format for coordinates in astropy ( check the help page for [astropy.coordinates](https://docs.astropy.org/en/stable/coordinates/index.html) ).\n",
    "#### Coordinates: 04h31m38.4s,18d13m57.2s"
   ]
  },
  {
   "cell_type": "code",
   "execution_count": null,
   "metadata": {
    "editable": true,
    "slideshow": {
     "slide_type": ""
    },
    "tags": []
   },
   "outputs": [],
   "source": [
    "coords = SkyCoord(\"...\",\"...\")\n",
    "q_results = alma.query_region(coords, radius = 10 * u.arcmin)\n",
    "q_results.to_pandas()"
   ]
  },
  {
   "cell_type": "markdown",
   "metadata": {
    "editable": true,
    "id": "GAdjr5Us0wHw",
    "slideshow": {
     "slide_type": "slide"
    },
    "tags": [
     "list"
    ]
   },
   "source": [
    "## Display the output query \n",
    "### Display all the column names in the output query:"
   ]
  },
  {
   "cell_type": "code",
   "execution_count": null,
   "metadata": {
    "editable": true,
    "id": "uj-HMy6B0wHx",
    "outputId": "64047914-439d-4dec-bd92-a99e5f7628fc",
    "scrolled": true,
    "slideshow": {
     "slide_type": ""
    },
    "tags": [
     "list"
    ]
   },
   "outputs": [],
   "source": [
    "q_results.colnames"
   ]
  },
  {
   "cell_type": "markdown",
   "metadata": {
    "editable": true,
    "slideshow": {
     "slide_type": "slide"
    },
    "tags": []
   },
   "source": [
    "### Display the unique Project code associated with the search results:"
   ]
  },
  {
   "cell_type": "code",
   "execution_count": null,
   "metadata": {
    "editable": true,
    "slideshow": {
     "slide_type": ""
    },
    "tags": []
   },
   "outputs": [],
   "source": [
    "from astropy.table import unique\n",
    "q_results = unique(q_results, '...')\n",
    "q_results['...'].data.data"
   ]
  },
  {
   "cell_type": "markdown",
   "metadata": {
    "editable": true,
    "id": "k9ZB4Zrz0wHx",
    "slideshow": {
     "slide_type": "slide"
    },
    "tags": []
   },
   "source": [
    "## Query observations by Cycle, ALMA bands and sensitivity\n",
    "#### HL Tau, Data from Band 3 and 4, starting from 2018, sensitivity for a velocity of 10 km/s be less than 10 mJy:"
   ]
  },
  {
   "cell_type": "code",
   "execution_count": null,
   "metadata": {
    "editable": true,
    "id": "UZxmeQvh0wHx",
    "outputId": "8bead0d3-9bb6-4e74-93a1-8912463cae84",
    "scrolled": true,
    "slideshow": {
     "slide_type": ""
    },
    "tags": []
   },
   "outputs": [],
   "source": [
    "from datetime import datetime\n",
    "\n",
    "q_results = alma.query_object(\"...\", payload = dict(\n",
    "            ... = ...,\n",
    "            ... = \"...\"))\n",
    "\n",
    "q_results = q_results[[datetime.fromisoformat(i) > datetime(2018,1,1)\n",
    "                       for i in q_results['obs_release_date']]]\n",
    "\n",
    "q_results.to_pandas()"
   ]
  },
  {
   "cell_type": "markdown",
   "metadata": {
    "editable": true,
    "id": "YQzIkkzC0wIB",
    "slideshow": {
     "slide_type": "slide"
    },
    "tags": []
   },
   "source": [
    "## Compare data \n",
    "First perform a conesearch query (~1 degree) at the position of the COSMOS field centre ( **RA=10h00m24s**, **Dec=+02d10m55s** ) to the ALMA Science Archive:"
   ]
  },
  {
   "cell_type": "code",
   "execution_count": null,
   "metadata": {
    "editable": true,
    "id": "n1Atgisi0wIC",
    "outputId": "afcc2f93-389e-4f1f-f0f0-50f130da3495",
    "scrolled": true,
    "slideshow": {
     "slide_type": ""
    },
    "tags": []
   },
   "outputs": [],
   "source": [
    "from astropy.coordinates import SkyCoord\n",
    "\n",
    "cos_cen = SkyCoord(\"\",frame = 'fk5')\n",
    "c_results = Alma.query_region(cos_cen,radius = 0.5*u.deg)\n",
    "\n",
    "# Keep only the unique observations\n",
    "c_results = unique(c_results,'obs_id') "
   ]
  },
  {
   "cell_type": "markdown",
   "metadata": {
    "editable": true,
    "id": "PVbaE6RJ0wID",
    "slideshow": {
     "slide_type": "slide"
    },
    "tags": []
   },
   "source": [
    "### Use astroquery to query the Herschel Science Archive:"
   ]
  },
  {
   "cell_type": "code",
   "execution_count": null,
   "metadata": {
    "editable": true,
    "id": "I6pyP7L40wIE",
    "outputId": "786621f3-11a2-4565-fe3d-724e06cf8ded",
    "scrolled": true,
    "slideshow": {
     "slide_type": ""
    },
    "tags": []
   },
   "outputs": [],
   "source": [
    "from astroquery.esa.hsa import HSA\n",
    "h_results = HSA.query_region(cos_cen, radius = 0.5*u.deg)"
   ]
  },
  {
   "cell_type": "markdown",
   "metadata": {
    "editable": true,
    "id": "KytMrMbW0wIF",
    "slideshow": {
     "slide_type": ""
    },
    "tags": []
   },
   "source": [
    "### Find what column names are associated with the RA/Dec in the Herschel results:"
   ]
  },
  {
   "cell_type": "code",
   "execution_count": null,
   "metadata": {
    "editable": true,
    "slideshow": {
     "slide_type": ""
    },
    "tags": []
   },
   "outputs": [],
   "source": [
    "print(h_results.colnames)"
   ]
  },
  {
   "cell_type": "markdown",
   "metadata": {
    "editable": true,
    "id": "sINZqLmf0wIG",
    "slideshow": {
     "slide_type": "slide"
    },
    "tags": []
   },
   "source": [
    "### Cross-match the two catalogs:"
   ]
  },
  {
   "cell_type": "code",
   "execution_count": null,
   "metadata": {
    "editable": true,
    "id": "crUlNZut0wIG",
    "outputId": "f41d9599-d324-4861-bda7-ca00d956fd9c",
    "slideshow": {
     "slide_type": ""
    },
    "tags": []
   },
   "outputs": [],
   "source": [
    "c_catalog = SkyCoord(ra= c_results['s_ra'],dec=c_results['s_dec'])\n",
    "h_catalog = SkyCoord(ra= h_results['...'],dec=h_results['...'])\n",
    "idx,d2d,d3d = h_catalog.match_to_catalog_sky(c_catalog)\n",
    "print(idx,d2d)"
   ]
  },
  {
   "cell_type": "code",
   "execution_count": null,
   "metadata": {
    "editable": true,
    "id": "7PvIb2q50wIH",
    "outputId": "a04183b5-545f-4ce8-d186-a94776e8b31e",
    "scrolled": true,
    "slideshow": {
     "slide_type": "slide"
    },
    "tags": []
   },
   "outputs": [],
   "source": [
    "c_results[idx].to_pandas()"
   ]
  },
  {
   "cell_type": "markdown",
   "metadata": {
    "editable": true,
    "id": "FsBGz_-d0wHz",
    "slideshow": {
     "slide_type": "slide"
    },
    "tags": []
   },
   "source": [
    "## Use source redshift to check which ALMA band covers line\n",
    "\n",
    "We can query for observation which ALMA band encompasses a specific spectral line. Despite CenA relatively close proximity ($z<<1$), it's good practise to compute the redshifted frequency of the transitions of interest, to verify if they exactly align with the spectral configuration of the ALMA observations.\n",
    "\n",
    "First, we query NED to grab the photometric redshift of AS 209:"
   ]
  },
  {
   "cell_type": "code",
   "execution_count": null,
   "metadata": {
    "editable": true,
    "id": "fqLF_Tz80wH0",
    "outputId": "ab79fe6a-98b8-492c-e4df-29dc3e81538e",
    "slideshow": {
     "slide_type": ""
    },
    "tags": []
   },
   "outputs": [],
   "source": [
    "from astroquery.ipac.ned import Ned\n",
    "z_result = Ned.query_object(\"...\")\n",
    "redshift = z_result['Redshift'][0]\n",
    "print('AS 209 redshift = {}\\n'.format(redshift))"
   ]
  },
  {
   "cell_type": "markdown",
   "metadata": {
    "editable": true,
    "id": "-ILDuCxP0wH1",
    "slideshow": {
     "slide_type": "slide"
    },
    "tags": []
   },
   "source": [
    "### Use Splatalogue to get the rest frequencies of our transition of interest\n",
    "\n",
    "#### CO v=0 lines from 1 to 1000 GHz:"
   ]
  },
  {
   "cell_type": "code",
   "execution_count": null,
   "metadata": {
    "editable": true,
    "id": "UrQ3cmPw0wH1",
    "outputId": "47c05d27-f3d3-43be-b577-d2557ade5dd8",
    "slideshow": {
     "slide_type": ""
    },
    "tags": []
   },
   "outputs": [],
   "source": [
    "from astroquery.splatalogue import Splatalogue\n",
    "from IPython.display import HTML\n",
    "\n",
    "l_results = Splatalogue.query_lines(#minfreq,\n",
    "                                    #maxfreq,\n",
    "                                    chemical_name = ' CO v = 0 ',\n",
    "                                   only_NRAO_recommended=True)"
   ]
  },
  {
   "cell_type": "code",
   "execution_count": null,
   "metadata": {
    "editable": true,
    "slideshow": {
     "slide_type": "slide"
    },
    "tags": []
   },
   "outputs": [],
   "source": [
    "# TEMPORARY BUG IN SPLATALOGUE!\n",
    "# WE NEED TO FORMAT HTML THE TABLE TO SEE \n",
    "# DIFFERENT COLORS IN THE TABLE!\n",
    "\n",
    "HTML(l_results.to_pandas().to_html(escape=False, max_rows = 6))"
   ]
  },
  {
   "cell_type": "markdown",
   "metadata": {
    "editable": true,
    "slideshow": {
     "slide_type": "slide"
    },
    "tags": []
   },
   "source": [
    "### Convert rest frequencies of lines to redshifted values"
   ]
  },
  {
   "cell_type": "code",
   "execution_count": null,
   "metadata": {
    "editable": true,
    "id": "RAYqAgC70wH2",
    "outputId": "630b65fc-89d7-40bf-8aea-4a3a8fa2f8bb",
    "slideshow": {
     "slide_type": ""
    },
    "tags": []
   },
   "outputs": [],
   "source": [
    "restfreq = l_results['orderedfreq']\n",
    "\n",
    "shiftfreq = restfreq * u.MHz/ ( 1 + redshift )\n",
    "\n",
    "print('\\nSky frequencies of the first 6 CO v=0 J-transitions:\\n')\n",
    "\n",
    "for i in range(1,7):\n",
    "    print('CO J={}-{}: {}'.format( i , i-1 , shiftfreq[i-1] ) )"
   ]
  },
  {
   "cell_type": "markdown",
   "metadata": {
    "editable": true,
    "id": "Uq7jzukB0wH3",
    "slideshow": {
     "slide_type": "slide"
    },
    "tags": []
   },
   "source": [
    "## Query by redshifted CO lines"
   ]
  },
  {
   "cell_type": "markdown",
   "metadata": {
    "editable": true,
    "slideshow": {
     "slide_type": ""
    },
    "tags": []
   },
   "source": [
    "We can query alma data accoring to the presence of specific CO transitions within the frequency bands covered by those observations.\n",
    "It is convenient to function **parse_frequency_support** from alma utils which converts the frequency_support column into arrays holding the spectral windows' start and end frequencies:"
   ]
  },
  {
   "cell_type": "code",
   "execution_count": null,
   "metadata": {
    "editable": true,
    "id": "sGW6sdD40wH3",
    "outputId": "84165a77-f016-4470-d437-bdc931490c07",
    "scrolled": true,
    "slideshow": {
     "slide_type": ""
    },
    "tags": []
   },
   "outputs": [],
   "source": [
    "from astroquery.alma.utils import parse_frequency_support\n",
    "q_results = alma.query_object(\"HL Tau\")\n",
    "\n",
    "CO_loc = np.array([[any([a[0] < freq < a[1]\n",
    "            # Check if the CO line falls\n",
    "            # within the frequency support range\n",
    "            for a in parse_frequency_support(q_row['frequency_support'])\n",
    "            # for the specific spectral window\n",
    "            if a[0] < q_row['frequency']* u.GHz < a[1]])\n",
    "            # for all the observations\n",
    "            for q_row in q_results]\n",
    "            # for all the CO lines\n",
    "            for freq in shiftfreq]).T\n"
   ]
  },
  {
   "cell_type": "code",
   "execution_count": null,
   "metadata": {
    "editable": true,
    "slideshow": {
     "slide_type": "slide"
    },
    "tags": []
   },
   "outputs": [],
   "source": [
    "CO_column = ['CO '+' '.join(l_results['resolved_QNs'][a]) \n",
    "          if any(a) else ' ' for a in CO_loc]\n",
    "\n",
    "q_results = q_results.to_pandas()\n",
    "q_results.insert(0,'CO data', CO_column)\n",
    "\n",
    "#We keep only the observations that contains at least one CO line:\n",
    "\n",
    "q_results = q_results[q_results['CO data'] != ' ']"
   ]
  },
  {
   "cell_type": "code",
   "execution_count": null,
   "metadata": {
    "editable": true,
    "id": "u2rmDZ980wH4",
    "scrolled": true,
    "slideshow": {
     "slide_type": "slide"
    },
    "tags": []
   },
   "outputs": [],
   "source": [
    "q_results"
   ]
  },
  {
   "cell_type": "markdown",
   "metadata": {
    "editable": true,
    "id": "CaO9hv7b0wH4",
    "slideshow": {
     "slide_type": "slide"
    },
    "tags": []
   },
   "source": [
    "## Download ALMA data\n",
    "\n",
    "Once you have decided which data you would like to work with locally, you can download it from the archive using the `access_url` provided in the astropy table. `alma.get_data_info` can be used to further list what is in each tarfile in the archive."
   ]
  },
  {
   "cell_type": "markdown",
   "metadata": {
    "editable": true,
    "id": "9k57r-9w0wH7",
    "slideshow": {
     "slide_type": ""
    },
    "tags": []
   },
   "source": [
    "### List what is in the first two archives (to cut down on time):\n",
    "Note: this may take some time."
   ]
  },
  {
   "cell_type": "code",
   "execution_count": null,
   "metadata": {
    "editable": true,
    "id": "UzDEO7fI0wH7",
    "scrolled": true,
    "slideshow": {
     "slide_type": ""
    },
    "tags": []
   },
   "outputs": [],
   "source": [
    "uid_url_tab_list = [alma.get_data_info(a, expand_tarfiles=True) \n",
    "                    for a in q_results['member_ous_uid'][:2]]"
   ]
  },
  {
   "cell_type": "markdown",
   "metadata": {
    "editable": true,
    "id": "wM6xJwfi0wH8",
    "slideshow": {
     "slide_type": "slide"
    },
    "tags": []
   },
   "source": [
    "### Make a list of only the FITS files and print the URLs:"
   ]
  },
  {
   "cell_type": "code",
   "execution_count": null,
   "metadata": {
    "editable": true,
    "id": "wR7Nq9oF0wH8",
    "outputId": "f25a26a8-9255-4177-b02a-7d0ca08203f7",
    "scrolled": true,
    "slideshow": {
     "slide_type": ""
    },
    "tags": []
   },
   "outputs": [],
   "source": [
    "fits_urls = [[url for url in tab['access_url'] if '.fits' in url] \n",
    "             for tab in uid_url_tab_list]\n",
    "print(fits_urls)"
   ]
  },
  {
   "cell_type": "markdown",
   "metadata": {
    "editable": true,
    "id": "jXRhdql50wH-",
    "slideshow": {
     "slide_type": "slide"
    },
    "tags": []
   },
   "source": [
    "### Set a local cache for the data and download:"
   ]
  },
  {
   "cell_type": "code",
   "execution_count": null,
   "metadata": {
    "editable": true,
    "id": "XARo-KMp0wH_",
    "slideshow": {
     "slide_type": ""
    },
    "tags": []
   },
   "outputs": [],
   "source": [
    "Alma.cache_location = '/big/external/drive/'\n",
    "\n",
    "# Uncomment the lines below to start the download\n",
    "#files = [alma.download_files(url,cache=True) for url in fits_urls]\n",
    "#print(files)"
   ]
  },
  {
   "cell_type": "markdown",
   "metadata": {
    "editable": true,
    "id": "nqWf36E30wIA",
    "slideshow": {
     "slide_type": "slide"
    },
    "tags": []
   },
   "source": [
    "## Use astroquery to send TAP queries (pyVO format)"
   ]
  },
  {
   "cell_type": "markdown",
   "metadata": {
    "id": "3cRnD-Xd0wIA"
   },
   "source": [
    "### Query all observations with central frequencies between 300 and 400 GHz, sensitivity better than 0.5 mJy/beam @ 10 km/s, and science_keyword containing the word 'disk'"
   ]
  },
  {
   "cell_type": "code",
   "execution_count": null,
   "metadata": {
    "editable": true,
    "id": "lW-DFdLu0wIA",
    "outputId": "7d997922-5c84-4c33-a90f-a73cf0283e21",
    "scrolled": true,
    "slideshow": {
     "slide_type": ""
    },
    "tags": []
   },
   "outputs": [],
   "source": [
    "tap_query = Alma.query_tap(f\"\"\"\n",
    "                           \"\"\")"
   ]
  },
  {
   "cell_type": "code",
   "execution_count": null,
   "metadata": {
    "editable": true,
    "slideshow": {
     "slide_type": "slide"
    },
    "tags": []
   },
   "outputs": [],
   "source": [
    "tap_query.to_table().to_pandas()"
   ]
  },
  {
   "cell_type": "markdown",
   "metadata": {
    "editable": true,
    "id": "mWhp2_N-0wII",
    "slideshow": {
     "slide_type": "slide"
    },
    "tags": [
     "alminer"
    ]
   },
   "source": [
    "# Part 3: ALminer<a name=\"alminer\"></a>\n",
    "\n",
    "ALminer is a Python-based code to effectively query, analyse, and visualize the ALMA Science Archive (ASA). \n",
    "\n",
    "Leveraging pyVO, it simplifies ASA queries and user-friendly visualizations and refined filtering. Users can download ALMA data products or raw data for advanced image processing."
   ]
  },
  {
   "cell_type": "markdown",
   "metadata": {
    "editable": true,
    "slideshow": {
     "slide_type": "slide"
    },
    "tags": []
   },
   "source": [
    "## Set-up "
   ]
  },
  {
   "cell_type": "code",
   "execution_count": null,
   "metadata": {
    "editable": true,
    "slideshow": {
     "slide_type": ""
    },
    "tags": []
   },
   "outputs": [],
   "source": [
    "import alminer"
   ]
  },
  {
   "cell_type": "markdown",
   "metadata": {
    "editable": true,
    "slideshow": {
     "slide_type": ""
    },
    "tags": []
   },
   "source": [
    "## Resources\n",
    "\n",
    "- [ALminer documentation](https://alminer.readthedocs.io/en/latest/).\n",
    "- The most recent version of the code can be found on [GitHub](https://github.com/emerge-erc/ALminer), with an [extensive tutorial Jupyter Notebook](https://nbviewer.org/github/emerge-erc/ALminer/blob/main/notebooks/tutorial/ALminer_tutorial.ipynb?flush_cache=True)\n",
    "- Here is a list of all other possible [scientific categories](https://alminer.readthedocs.io/en/latest/pages/scientific_categories.html) and [keywords](https://alminer.readthedocs.io/en/latest/pages/science_keywords.html) for the `alminer.keysearch` function.\n"
   ]
  },
  {
   "cell_type": "markdown",
   "metadata": {
    "editable": true,
    "id": "JluyyrYL0wIK",
    "slideshow": {
     "slide_type": "slide"
    },
    "tags": []
   },
   "source": [
    "## Query by target name \n",
    "\n",
    "The names must be known objects in SIMBAD, VizieR, or NED. "
   ]
  },
  {
   "cell_type": "code",
   "execution_count": null,
   "metadata": {
    "editable": true,
    "id": "adLNSHUh0wIK",
    "outputId": "5b283366-fde2-4292-eff0-a653fe554c67",
    "slideshow": {
     "slide_type": ""
    },
    "tags": []
   },
   "outputs": [],
   "source": [
    "q_results = alminer.target('')"
   ]
  },
  {
   "cell_type": "markdown",
   "metadata": {
    "editable": true,
    "id": "qaJEttp30wIL",
    "slideshow": {
     "slide_type": "slide"
    },
    "tags": []
   },
   "source": [
    "## Display the query results as a table"
   ]
  },
  {
   "cell_type": "markdown",
   "metadata": {
    "editable": true,
    "slideshow": {
     "slide_type": ""
    },
    "tags": []
   },
   "source": [
    "ALminer output is already in a pandas format. With the  `alminer.explore` function, you can control whether or not you want to display all rows and/or all columns  By default, only the 18 most useful columns are shown and the number of rows is truncated.\n",
    "\n",
    "We can use the option `head()` to visualize only the first 5 rows:"
   ]
  },
  {
   "cell_type": "code",
   "execution_count": null,
   "metadata": {
    "editable": true,
    "scrolled": true,
    "slideshow": {
     "slide_type": ""
    },
    "tags": []
   },
   "outputs": [],
   "source": [
    "alminer.explore(q_results, allcols=True, allrows=False).head()"
   ]
  },
  {
   "cell_type": "markdown",
   "metadata": {
    "editable": true,
    "id": "va3XAMZS0wIN",
    "slideshow": {
     "slide_type": "slide"
    },
    "tags": []
   },
   "source": [
    "##  Query by coordinates\n",
    "#### **RA** = 67.910154, **Dec** = \t18.232681\n",
    "#### **Search radius** of 10 arcmin"
   ]
  },
  {
   "cell_type": "code",
   "execution_count": null,
   "metadata": {
    "editable": true,
    "id": "cJheaYYS0wIN",
    "outputId": "b4c23156-bd68-4230-f56d-ed5e7894f08e",
    "slideshow": {
     "slide_type": ""
    },
    "tags": []
   },
   "outputs": [],
   "source": [
    "q_results = alminer.conesearch(ra=..., dec=...,\n",
    "                               search_radius = 10.0)"
   ]
  },
  {
   "cell_type": "markdown",
   "metadata": {
    "editable": true,
    "id": "P7SHnygY0wIO",
    "slideshow": {
     "slide_type": "slide"
    },
    "tags": []
   },
   "source": [
    "## Query by combination of features \n",
    "\n",
    "* Scientific category 'Disks and planet formation\"' \n",
    "* Contain the words 'DSHARP' in their abstracts\n",
    "* Public"
   ]
  },
  {
   "cell_type": "code",
   "execution_count": null,
   "metadata": {
    "editable": true,
    "slideshow": {
     "slide_type": ""
    },
    "tags": []
   },
   "outputs": [],
   "source": [
    "query_params = {'proposal_abstract': [''],\n",
    "                'scientific_category':[\"\"]}"
   ]
  },
  {
   "cell_type": "code",
   "execution_count": null,
   "metadata": {
    "editable": true,
    "id": "kdyUQ1sA0wIO",
    "outputId": "3c90b344-7cc0-41b0-fc4b-aed5b65772f7",
    "slideshow": {
     "slide_type": ""
    },
    "tags": []
   },
   "outputs": [],
   "source": [
    "q_results = alminer.keysearch(query_params,\n",
    "                              public = True,\n",
    "                              print_targets = False)"
   ]
  },
  {
   "cell_type": "markdown",
   "metadata": {
    "editable": true,
    "slideshow": {
     "slide_type": "slide"
    },
    "tags": []
   },
   "source": [
    "## Summarize results"
   ]
  },
  {
   "cell_type": "code",
   "execution_count": null,
   "metadata": {
    "editable": true,
    "slideshow": {
     "slide_type": ""
    },
    "tags": []
   },
   "outputs": [],
   "source": [
    "alminer.summary(q_results)"
   ]
  },
  {
   "cell_type": "markdown",
   "metadata": {
    "editable": true,
    "slideshow": {
     "slide_type": "slide"
    },
    "tags": []
   },
   "source": [
    "## Filter results\n",
    "### Get the description and units of *ang_res_arcsec* column:\n"
   ]
  },
  {
   "cell_type": "code",
   "execution_count": null,
   "metadata": {
    "editable": true,
    "scrolled": true,
    "slideshow": {
     "slide_type": ""
    },
    "tags": []
   },
   "outputs": [],
   "source": [
    "alminer.get_info('')"
   ]
  },
  {
   "cell_type": "markdown",
   "metadata": {
    "editable": true,
    "slideshow": {
     "slide_type": "slide"
    },
    "tags": []
   },
   "source": [
    "### Only keep observations with angular resolutions < 0.1 arcsec:"
   ]
  },
  {
   "cell_type": "code",
   "execution_count": null,
   "metadata": {
    "editable": true,
    "slideshow": {
     "slide_type": ""
    },
    "tags": []
   },
   "outputs": [],
   "source": [
    "selected = q_results[q_results['ang_res_arcsec'] < 0.1]\n",
    "alminer.summary(selected, print_targets=False)"
   ]
  },
  {
   "cell_type": "markdown",
   "metadata": {
    "editable": true,
    "slideshow": {
     "slide_type": "slide"
    },
    "tags": []
   },
   "source": [
    "### Only keep observations with angular resolutions < 0.5 arcsec cointaing a certain frequency:"
   ]
  },
  {
   "cell_type": "code",
   "execution_count": null,
   "metadata": {
    "editable": true,
    "slideshow": {
     "slide_type": ""
    },
    "tags": []
   },
   "outputs": [],
   "source": [
    "freq = 230.5 #GHz\n",
    "selected = selected[(selected[\"min_freq_GHz\"] < freq) & \n",
    "                        (selected[\"max_freq_GHz\"] > freq)]\n",
    "alminer.summary(selected, print_targets=False)"
   ]
  },
  {
   "cell_type": "markdown",
   "metadata": {
    "editable": true,
    "id": "qVB1cHXA0wIS",
    "slideshow": {
     "slide_type": "slide"
    },
    "tags": []
   },
   "source": [
    "## Plot an overview of the query results"
   ]
  },
  {
   "cell_type": "code",
   "execution_count": null,
   "metadata": {
    "editable": true,
    "id": "2BbyT83E0wIS",
    "outputId": "8568464d-fda9-4679-b78e-9df42d3fc80c",
    "slideshow": {
     "slide_type": ""
    },
    "tags": []
   },
   "outputs": [],
   "source": [
    "alminer.plot_overview(q_results, showfig=True)"
   ]
  },
  {
   "cell_type": "markdown",
   "metadata": {
    "editable": true,
    "slideshow": {
     "slide_type": "slide"
    },
    "tags": []
   },
   "source": [
    "### Print all columns"
   ]
  },
  {
   "cell_type": "code",
   "execution_count": null,
   "metadata": {
    "editable": true,
    "id": "l__ebm8b0wIU",
    "outputId": "eb3e904e-ca25-4082-c9a3-9f648501dafb",
    "slideshow": {
     "slide_type": ""
    },
    "tags": []
   },
   "outputs": [],
   "source": [
    "print(q_results.columns)\n",
    "\n",
    "# Get information about the columns of interest\n",
    "alminer.get_info('ang_res_arcsec')\n",
    "alminer.get_info('vel_res_kms')"
   ]
  },
  {
   "cell_type": "markdown",
   "metadata": {
    "editable": true,
    "id": "IqwDmem30wIY",
    "slideshow": {
     "slide_type": "slide"
    },
    "tags": []
   },
   "source": [
    "### Print the summary of an subquery\n",
    "#### Angular Resolution < 3 arcsec, Velocity Resolution < 60 km/s"
   ]
  },
  {
   "cell_type": "code",
   "execution_count": null,
   "metadata": {
    "editable": true,
    "id": "pRzLwO8P0wIW",
    "slideshow": {
     "slide_type": ""
    },
    "tags": []
   },
   "outputs": [],
   "source": [
    "sub_query = q_results[(q_results['ang_res_arcsec'] < ... ) &\n",
    "                    (q_results['vel_res_kms'] < ...)]\n",
    "alminer.summary(sub_query, print_targets=True)"
   ]
  },
  {
   "cell_type": "markdown",
   "metadata": {
    "editable": true,
    "slideshow": {
     "slide_type": "slide"
    },
    "tags": []
   },
   "source": [
    "### Plot the overview of the subquery"
   ]
  },
  {
   "cell_type": "code",
   "execution_count": null,
   "metadata": {
    "editable": true,
    "id": "VCbulavT0wIa",
    "outputId": "fb5a3cde-3d18-410a-df49-a9117c9ccdd3",
    "scrolled": true,
    "slideshow": {
     "slide_type": ""
    },
    "tags": []
   },
   "outputs": [],
   "source": [
    "alminer.plot_overview(sub_query) # you can also specify a redshift using the 'z' parameter (default=0)"
   ]
  },
  {
   "cell_type": "markdown",
   "metadata": {
    "editable": true,
    "id": "7EFoHMjY0wIb",
    "slideshow": {
     "slide_type": "slide"
    },
    "tags": []
   },
   "source": [
    "## Query CO lines\n",
    "### Search whether any CO lines are covered in the above observations:\n",
    "Note that if you are interested in observations of targets at high-redshift, you can specify a redshift using the 'z' parameter."
   ]
  },
  {
   "cell_type": "code",
   "execution_count": null,
   "metadata": {
    "editable": true,
    "id": "PXX9pgL20wIb",
    "outputId": "8cdcc24d-750c-4a47-9193-e674332c7e77",
    "scrolled": true,
    "slideshow": {
     "slide_type": ""
    },
    "tags": []
   },
   "outputs": [],
   "source": [
    "CO_obs = alminer.CO_lines(q_results, z=0) "
   ]
  },
  {
   "cell_type": "markdown",
   "metadata": {
    "editable": true,
    "slideshow": {
     "slide_type": "slide"
    },
    "tags": []
   },
   "source": [
    "### Mark redshifted CO lines:"
   ]
  },
  {
   "cell_type": "code",
   "execution_count": null,
   "metadata": {
    "editable": true,
    "slideshow": {
     "slide_type": ""
    },
    "tags": []
   },
   "outputs": [],
   "source": [
    "alminer.plot_overview(q_results, mark_CO=True) "
   ]
  },
  {
   "cell_type": "markdown",
   "metadata": {
    "editable": true,
    "id": "zXk6mkPT0wIb",
    "slideshow": {
     "slide_type": "slide"
    },
    "tags": []
   },
   "source": [
    "### Search whether a given frequency is covered in the observations: 13CO 3-2"
   ]
  },
  {
   "cell_type": "code",
   "execution_count": null,
   "metadata": {
    "editable": true,
    "id": "9xiwVZRO0wIc",
    "outputId": "759176b1-89a6-4d0b-c104-6db592159949",
    "slideshow": {
     "slide_type": ""
    },
    "tags": []
   },
   "outputs": [],
   "source": [
    "myline_obs = alminer.line_coverage(q_results,\n",
    "                                   line_freq=...,\n",
    "                                   z=0,\n",
    "                                   line_name=\"13CO 3-2\",\n",
    "                                   print_targets=True)"
   ]
  },
  {
   "cell_type": "markdown",
   "metadata": {
    "editable": true,
    "id": "17WixIK30wIc",
    "slideshow": {
     "slide_type": "slide"
    },
    "tags": []
   },
   "source": [
    "### Highlight this frequency in the overview plots:"
   ]
  },
  {
   "cell_type": "code",
   "execution_count": null,
   "metadata": {
    "editable": true,
    "id": "kU3GF6lw0wId",
    "outputId": "fb3703b3-892b-4e22-c557-1add54b1d957",
    "slideshow": {
     "slide_type": ""
    },
    "tags": []
   },
   "outputs": [],
   "source": [
    "alminer.plot_line_overview(q_results, line_freq=...)"
   ]
  },
  {
   "cell_type": "markdown",
   "metadata": {
    "editable": true,
    "id": "D71pKcC10wId",
    "slideshow": {
     "slide_type": "slide"
    },
    "tags": []
   },
   "source": [
    "## Download all data products (raw + products)\n",
    "### Download data whether the CO 3-2 frequency is covered in the observations:"
   ]
  },
  {
   "cell_type": "code",
   "execution_count": null,
   "metadata": {
    "editable": true,
    "id": "mtbrsTVn0wIe",
    "outputId": "dbf8e309-6040-4692-d655-580d7952e952",
    "slideshow": {
     "slide_type": ""
    },
    "tags": []
   },
   "outputs": [],
   "source": [
    "alminer.download_data(myline_obs, fitsonly=False, dryrun=True,\n",
    "                      location='./data', print_urls=False)"
   ]
  },
  {
   "cell_type": "markdown",
   "metadata": {
    "editable": true,
    "id": "OnqosyM10wIf",
    "slideshow": {
     "slide_type": "slide"
    },
    "tags": []
   },
   "source": [
    "### Download only continuum FITS images:"
   ]
  },
  {
   "cell_type": "code",
   "execution_count": null,
   "metadata": {
    "editable": true,
    "id": "F6Xr9mP20wIg",
    "outputId": "fe685010-d8f5-4463-d279-70d6a33462bb",
    "slideshow": {
     "slide_type": ""
    },
    "tags": []
   },
   "outputs": [],
   "source": [
    "alminer.download_data(myline_obs, fitsonly=True, dryrun=True,\n",
    "                      location='./data', print_urls=True, \n",
    "                      filename_must_include=['_sci', '.pbcor', 'cont'])"
   ]
  },
  {
   "cell_type": "markdown",
   "metadata": {
    "editable": true,
    "id": "8uTeZmEa0wIg",
    "slideshow": {
     "slide_type": "slide"
    },
    "tags": []
   },
   "source": [
    "## Send a pyVO query using ALminer\n",
    "We can use all the analysis and plotting routines presented before on these observations:"
   ]
  },
  {
   "cell_type": "code",
   "execution_count": null,
   "metadata": {
    "editable": true,
    "id": "IExeZ9Z60wIh",
    "outputId": "eae766b4-bbc0-415c-b1e8-4612bae8967a",
    "slideshow": {
     "slide_type": ""
    },
    "tags": []
   },
   "outputs": [],
   "source": [
    "query_str = f\"\"\"SELECT *\n",
    "                 FROM ivoa.ObsCore\n",
    "                 WHERE frequency > 300\n",
    "                 AND frequency < 400\n",
    "                 AND sensitivity_10kms < 5\n",
    "                 AND science_keyword LIKE '%disk%'\n",
    "            \"\"\"\n",
    "\n",
    "q_results = alminer.run_query(query_str)\n",
    "q_results_obs = alminer.filter_results(q_results, print_targets=False)"
   ]
  },
  {
   "cell_type": "markdown",
   "metadata": {
    "editable": true,
    "slideshow": {
     "slide_type": "subslide"
    },
    "tags": []
   },
   "source": [
    "<style>\n",
    "\n",
    ".reveal .controls .controls-arrow::after, .reveal .controls .controls-arrow::before {\n",
    "color: #5B5BD5;\n",
    "}\n",
    "    \n",
    ".reveal .slides>section {\n",
    "    overflow-y: auto !important; /* Abilita lo scrolling verticale */\n",
    "    overflow-x: auto !important; /* Abilita lo scrolling orizzontale */\n",
    "    word-wrap: normal !important; /* Disabilita il wrap delle parole */\n",
    "}\n",
    "\n",
    ".reveal {\n",
    "    font-family: \"Ubuntu\", sans-serif;\n",
    "    background-color: #ffffff;\n",
    "}\n",
    "\n",
    ".reveal table {\n",
    "    font-size: 90%;\n",
    "}\n",
    "\n",
    ".jp-MarkdownOutput {\n",
    "  padding-left: 0px;\n",
    "    padding-right: 0px;\n",
    "}\n",
    "\n",
    ".jp-RenderedHTMLCommon > *:last-child {\n",
    "  margin-bottom: 0.5em;\n",
    "overflow-x: auto !important; */\n",
    "}\n",
    "\n",
    ".jp-RenderedHTMLCommon  {\n",
    "    padding-right: 0px;\n",
    "}\n",
    "\n",
    ".jp-Collapser {\n",
    "  flex: 0 0 0;\n",
    "}\n",
    ".reveal h1 {\n",
    "    font-family: \"Ubuntu\", sans-serif;\n",
    "    font-weight: 700;\n",
    "    font-style: normal;\n",
    "}\n",
    "\n",
    "\n",
    ".reveal h2 {\n",
    "    font-family: \"Ubuntu\", sans-serif;\n",
    "    font-weight: 600;\n",
    "    font-style: normal;\n",
    "}\n",
    "\n",
    ".reveal h3 {\n",
    "    font-family: \"Ubuntu\", sans-serif;\n",
    "    font-weight: 500;\n",
    "    font-style: normal;z\n",
    "}\n",
    "\n",
    ".reveal h4 {\n",
    "    font-family: \"Ubuntu\", sans-serif;\n",
    "    font-weight: 400;\n",
    "    font-style: normal;\n",
    "}\n",
    "\n",
    ".reveal p {\n",
    "    font-family: \"Ubuntu\", sans-serif;\n",
    "}\n",
    "\n",
    "    \n",
    ".reveal .slides>section .table-container {\n",
    "    overflow-x: auto; /* Abilita lo scrolling orizzontale quando necessario */\n",
    " max-width: 0px;\n",
    " overflow: hidden;\n",
    " text-overflow: ellipsis;\n",
    " white-space: nowrap;\n",
    "}\n",
    "    \n",
    ".reveal table {\n",
    "    overflow-x: auto;/* Imposta la dimensione del font desiderata */\n",
    " max-width: 0px;\n",
    " overflow: hidden;\n",
    " text-overflow: ellipsis;\n",
    " white-space: nowrap;\n",
    "}\n",
    "\n",
    ".reveal .slides>section table {\n",
    "     overflow-x: auto; /* Imposta la larghezza massima della tabella al 100% della slide */\n",
    " max-width: 0px;\n",
    " overflow: hidden;\n",
    " text-overflow: ellipsis;\n",
    " white-space: nowrap;\n",
    "}\n",
    "\n",
    ".reveal .slides>section .celltag_hide_input .jp-InputArea{\n",
    "    display: none;\n",
    "}\n",
    "    \n",
    ".reveal .slides>section:first-of-type .jp-InputPrompt{\n",
    "    width: 0;\n",
    "    padding-left: 0px;\n",
    "    padding-right: 0px;\n",
    "}\n",
    "\n",
    ".reveal div.highlight > pre{\n",
    "    word-wrap: normal; \n",
    "    word-break: break-word;\n",
    "}\n",
    "    \n",
    ".reveal .slides>section {\n",
    "    overflow-y: auto; /* Enable vertical scrolling */\n",
    "    overflow-x: auto; /* Enable horizontal scrolling */\n",
    "    word-wrap: normal; \n",
    "}\n",
    "\n",
    ".reveal pre code {\n",
    "    background-color: #f0f0f0; /* Aggiungi lo stesso colore di sfondo dei blocchi di codice */\n",
    "    border-radius: 3px; /* Aggiungi bordi arrotondati */\n",
    "    font-weight: bold; /* Rendi il testo in grassetto */\n",
    "    color: #5B5BD5; /* Imposta il colore del testo */\n",
    "    overflow-x: auto; /* Abilita lo scrolling orizzontale se necessario */\n",
    "    overflow-y: auto; /* Abilita lo scrolling verticale se necessario */\n",
    "    font-size: 15pt;\n",
    "}\n",
    "\n",
    ".reveal .slides>section .celltag_list pre{\n",
    "    \n",
    "   font-size: 13pt !important ;\n",
    "    width: 100% !important; \n",
    "    word-break: normal;\n",
    "    white-space: preserve-spaces;\n",
    "    \n",
    "}\n",
    "    \n",
    ".reveal div.jp-OutputArea-output pre{\n",
    "    \n",
    "   font-size: 13pt !important ;\n",
    "    width: 100% !important; \n",
    "    word-break: normal;\n",
    "    white-space: preserve-breaks;\n",
    "    \n",
    "}\n",
    ".reveal p strong {\n",
    "    color: #5B5BD5; /* Imposta il colore del testo in grassetto */\n",
    "}\n",
    "\n",
    ".reveal .slides>section .celltag_bold p strong {\n",
    "    color: #000000; /* Imposta il colore del testo in grassetto */\n",
    "}\n",
    ".reveal .slides>section p code{\n",
    "    background-color:  #f0f0f0  ; /* Light blue background */\n",
    "    padding: 5px; /* Add padding for spacing */\n",
    "    border-radius: 3px; /* Add rounded corners */\n",
    "    font-weight: bold; /* Make text bold */\n",
    "    color:#5B5BD5;\n",
    "    overflow-x: auto;\n",
    "    overflow-y: auto;\n",
    "    word-wrap: normal; \n",
    "}\n",
    "\n",
    ".reveal ul,\n",
    ".reveal li {\n",
    "    font-family: \"Ubuntu\", sans-serif;\n",
    "}\n",
    "\n",
    ".reveal li code{\n",
    "    background-color:  #f0f0f0  ; /* Light blue background */\n",
    "    padding: 5px; /* Add padding for spacing */\n",
    "    border-radius: 3px; /* Add rounded corners */\n",
    "    font-weight: bold; /* Make text bold */\n",
    "    color:#5B5BD5;\n",
    "    overflow-x: auto;\n",
    "    overflow-y: auto;\n",
    "    word-wrap: normal; \n",
    "}\n",
    "\n",
    "\n",
    ".reveal a {\n",
    "    color: #5B5BD5 !important; /* Imposta il colore del testo in grassetto e degli hyperlink */\n",
    "}\n",
    "\n",
    "\n",
    "\n",
    "/* Add background images */\n",
    ".reveal .slides>section .celltag_first\n",
    "    {\n",
    "    background-image: url(\"https://europeanastrobiology.eu/wp-content/uploads/2024/07/EAI-logo-3-1-300x168-1.png\");\n",
    "    background-size: 36% auto;\n",
    "    background-position-x: 0px,165px,410px,728px;\n",
    "    background-repeat: no-repeat;\n",
    "    background-position-y: 280px;\n",
    "}\n",
    "    \n",
    "\n",
    ".reveal .slides>section:first-of-type h1,\n",
    ".reveal .slides>section:first-of-type h2,\n",
    ".reveal .slides>section:first-of-type p {\n",
    "     margin-top: 50px;\n",
    "    color: #5B5BD5;\n",
    "    \n",
    "}\n",
    "    \n",
    ".reveal .slides>section:first-of-type h3{\n",
    "    font-weight: 400;\n",
    "    padding-bottom: 50px;\n",
    "    color: black;\n",
    "    font-family:inherit;\n",
    "    padding-right: 20px\n",
    "}\n",
    "\n",
    ".reveal .slides>section:first-of-type h4 {\n",
    "    font-weight: 300;\n",
    "    padding-bottom: 10px;\n",
    "    color: black;\n",
    "     text-align:right;\n",
    "}\n",
    "\n",
    ".reveal .slides>section:first-of-type p:last-of-type {\n",
    "    margin-bottom: 0px; /* Adjust as needed */\n",
    "}\n",
    "\n",
    ".reveal .slides>section:first-of-type img {\n",
    "    align-self: center;\n",
    "    margin-top: auto;\n",
    "}\n",
    "\n",
    ".reveal .slides>section:first-of-type img {\n",
    "    align-self: center;\n",
    "    margin-top: auto;\n",
    "    max-width: 100%; /* Adjust the percentage as needed */\n",
    "    height: auto;\n",
    "    padding-top: 50 px;\n",
    "}\n",
    "\n",
    "\n",
    ".reveal .slides>section .celltag_alminer { \n",
    "    \n",
    "    background-image: url('https://www.alma-allegro.nl/wp-content/uploads/2021/07/ALminer_logo_header-scaled-e1647277877367.jpg');\n",
    "      position: relative;\n",
    "      padding-top: 170px;\n",
    "      background-repeat: no-repeat;\n",
    "      background-position: top left;\n",
    "      background-size: 80%;\n",
    "      padding-left: 20px;\n",
    "}\n",
    "    \n",
    ".reveal .slides>section .celltag_pyvo { \n",
    "    \n",
    "    background-image: url('https://projectescape.eu/sites/default/files/styles/responsive/public/IVOA_1_0.jpg?itok=D4U-uXrZ');\n",
    "    position: relative;\n",
    "    padding-top: 77px;\n",
    "    background-repeat: no-repeat;\n",
    "    background-position: top right;\n",
    "    background-size: 50%;\n",
    "    padding-left: 0px;\n",
    "}\n",
    "    \n",
    ".reveal .slides>section .celltag_small_url p{\n",
    "    font-size: 14pt !important ;\n",
    "}\n",
    "\n",
    ".reveal .slides>section .celltag_small_url { \n",
    "    \n",
    "    background-image: url('https://encrypted-tbn0.gstatic.com/images?q=tbn:ANd9GcQShHA2uWsQsHlTk_9hKk-2TvOEVSa15TjBNlbREcInz95s1vMM_-CwrPHSGvR4L4lPba4&usqp=CAU');\n",
    "    background-repeat: no-repeat;\n",
    "    background-position: center right;\n",
    "    background-size: 28% auto;\n",
    "}\n",
    "    \n",
    ".reveal .slides>section .celltag_astroquery { \n",
    "    \n",
    "    background-image: url('https://encrypted-tbn0.gstatic.com/images?q=tbn:ANd9GcRi8FeQzWKt6Kwt0DdcFBsCnimxHZULgwnQqqmNoocWKg&s');\n",
    "    background-repeat: no-repeat;\n",
    "    background-position: top right;\n",
    "    background-size: 38% auto;\n",
    "}\n",
    "\n",
    ".reveal .slides>section:first-of-type {\n",
    "    text-align:center;\n",
    "    background-color: #ffffff ;\n",
    "    \n",
    "}\n",
    "/* Fasce superiori e inferiori */\n",
    ".reveal .slides>section:first-of-type::before,\n",
    ".reveal .slides>section:first-of-type::after {\n",
    "    content: '';\n",
    "    position: absolute;\n",
    "    width: 100%;\n",
    "    height: 50px; /* Altezza della fascia */\n",
    "    background-color: #5B5BD5; /* Colore azzurro */\n",
    "    left: 0;\n",
    "    z-index: -1; /* Per posizionare dietro al contenuto */\n",
    "}\n",
    "\n",
    "/* Fascia superiore */\n",
    ".reveal .slides>section:first-of-type::before {\n",
    "    top: 0;\n",
    "}\n",
    "\n",
    "/* Fascia inferiore */\n",
    ".reveal .slides>section:first-of-type::after {\n",
    "    bottom: 0;\n",
    "}\n",
    "\n",
    "img {\n",
    "    width: auto;\n",
    "    height: auto;\n",
    "    max-width: 100%;\n",
    "    max-height: 100%;\n",
    "}\n",
    "\n",
    "\n",
    "</style>"
   ]
  },
  {
   "cell_type": "markdown",
   "metadata": {},
   "source": [
    "## Final Task: retrieve useful fits for the next steps\n",
    "\n",
    "#### 1: hd142527, Band 3, 2018.1.00568.S, full Stokes\n",
    "#### 2: hd142527, Band 7, 2015.1.00425.S, Stokes I\n"
   ]
  },
  {
   "cell_type": "markdown",
   "metadata": {
    "editable": true,
    "jp-MarkdownHeadingCollapsed": true,
    "slideshow": {
     "slide_type": "skip"
    },
    "tags": [
     "hide_output",
     "hide_input"
    ]
   },
   "source": [
    "## PyVO Exercise:\n",
    "Use PyVO to query the ALMA archive for observations HL Tau that have a frequency range between 100 GHz and 120 GHz. Additionally, filter for observations with a minimum exposure time of 12000 seconds."
   ]
  },
  {
   "cell_type": "markdown",
   "metadata": {
    "editable": true,
    "slideshow": {
     "slide_type": "skip"
    },
    "tags": [
     "hide_output",
     "hide_input"
    ]
   },
   "source": [
    "## Astropy Exercise:\n",
    "Use Astroquery to query the ALMA archive for observations of the protoplanetary disk TW Hydra. The observations data should have been release after 2018, and an angular resolution between 0.1 arcseconds and 0.5 arcseconds. Also, its frequency coverage should contain the CO 2-1 emission line (230.538 GHz)"
   ]
  },
  {
   "cell_type": "markdown",
   "metadata": {
    "editable": true,
    "slideshow": {
     "slide_type": "skip"
    },
    "tags": [
     "hide_output",
     "hide_input"
    ]
   },
   "source": [
    "## Alminer Exercise\n",
    "Use Alminer to query the ALMA archive for continuum observations of the protoplanetary disk DM Tau. The observations should have an angular resolution lower than 0.1 arcseconds. Additionally, filter for ALma band 6, a largets angular scale bugger than 0.49 arcsec and sensitivity better than 0.44 mJy/beam @ 10 km/s."
   ]
  },
  {
   "cell_type": "code",
   "execution_count": null,
   "metadata": {},
   "outputs": [],
   "source": []
  }
 ],
 "metadata": {
  "colab": {
   "provenance": []
  },
  "kernelspec": {
   "display_name": "Python [conda env:base]",
   "language": "python",
   "name": "conda-base-py"
  },
  "language_info": {
   "codemirror_mode": {
    "name": "ipython",
    "version": 3
   },
   "file_extension": ".py",
   "mimetype": "text/x-python",
   "name": "python",
   "nbconvert_exporter": "python",
   "pygments_lexer": "ipython3",
   "version": "3.11.5"
  }
 },
 "nbformat": 4,
 "nbformat_minor": 4
}
